{
 "cells": [
  {
   "cell_type": "code",
   "execution_count": 1,
   "metadata": {},
   "outputs": [],
   "source": [
    "import numpy as np\n",
    "import matplotlib.pyplot as plt\n",
    "from numpy.random import choice\n",
    "from io import StringIO"
   ]
  },
  {
   "cell_type": "code",
   "execution_count": 12,
   "metadata": {},
   "outputs": [
    {
     "name": "stdout",
     "output_type": "stream",
     "text": [
      "bbbabbababbbabbbbbbabababbababbbabbaabbbbbbbabbbaabbabbbabbabababababbbababbbabababbbbababababababbaabbaababbabbbabaabbabbbbabababababbbabbabababbbabbbabababaabbababbbababbabbbababbababbababbbabababababbabaababbbbbabbbababaabbbabbabbbbababababababbaabbababababababababbbababbababbbabbabbaabbbabababababbabbababababbaabaaababbabbabababbabaabbabbababbbababababaaababbabbabbbaababaababababbababbababbababababababbababababbababaabbababbabbabababbbababbababbabababbabbbabbabbbbabababbbbbaaabbaabbabbbbabbabababbababbbabbbbabbbababababababaababababababababbbabbababbbabababababababbabababababababababaababaabbbbbbaababbbababababababbaababababbbbabaababbabababababbababbababbbbabbbbbbabbababaabbbabbabbabaababababababbbababbabababbabbbababbaababababababbabbabbbbabbababbbabbabbabbbaababbabbababbabbabbabbaabababababbbbabaabababaabbbbabbabbbababbbababbabbbababbbbaabbababababbababaababbababbabbbababababbbbbbbabababbabababbabbababababbaabababababababbbabbbabbababababbbabababaabababbabbbababbabbbbabbbbababab\n"
     ]
    }
   ],
   "source": [
    "mapA = np.array([0.1, 0.9])\n",
    "mapB = np.array([0.6, 0.4])\n",
    "characters = ['a', 'b']\n",
    "\n",
    "currentChar = 'a'\n",
    "generated_string = \"\"\n",
    "for i in range(1000):\n",
    "    if (currentChar == 'a'):\n",
    "        currentChar = np.random.choice(characters, 1, replace=False, p=mapA)\n",
    "        generated_string = generated_string + currentChar[0]\n",
    "    else:\n",
    "        currentChar = np.random.choice(characters, 1, replace=False, p=mapB)\n",
    "        generated_string = generated_string + currentChar[0]\n",
    "print(generated_string)"
   ]
  },
  {
   "cell_type": "code",
   "execution_count": null,
   "metadata": {},
   "outputs": [],
   "source": []
  },
  {
   "cell_type": "code",
   "execution_count": null,
   "metadata": {},
   "outputs": [],
   "source": []
  },
  {
   "cell_type": "code",
   "execution_count": 9,
   "metadata": {},
   "outputs": [
    {
     "name": "stdout",
     "output_type": "stream",
     "text": [
      "bmy name is\n"
     ]
    }
   ],
   "source": [
    "a = 'b'\n",
    "b = \"my name is\"\n",
    "print(a+b)"
   ]
  },
  {
   "cell_type": "code",
   "execution_count": null,
   "metadata": {},
   "outputs": [],
   "source": []
  }
 ],
 "metadata": {
  "kernelspec": {
   "display_name": "Python 3",
   "language": "python",
   "name": "python3"
  },
  "language_info": {
   "codemirror_mode": {
    "name": "ipython",
    "version": 3
   },
   "file_extension": ".py",
   "mimetype": "text/x-python",
   "name": "python",
   "nbconvert_exporter": "python",
   "pygments_lexer": "ipython3",
   "version": "3.6.4"
  }
 },
 "nbformat": 4,
 "nbformat_minor": 2
}
