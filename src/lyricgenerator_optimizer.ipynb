{
 "cells": [
  {
   "cell_type": "code",
   "execution_count": 2,
   "metadata": {
    "scrolled": true
   },
   "outputs": [],
   "source": [
    "import math\n",
    "import csv\n",
    "import matplotlib.pyplot as plt; plt.rcdefaults()\n",
    "import numpy as np\n",
    "import matplotlib.pyplot as plt\n",
    "from numpy.random import choice\n",
    "\n",
    "\n",
    "from io import StringIO\n",
    "\n",
    "length = 500"
   ]
  },
  {
   "cell_type": "code",
   "execution_count": 3,
   "metadata": {
    "scrolled": true
   },
   "outputs": [],
   "source": [
    "char_to_index_map = {\n",
    "    'a': 0,\n",
    "    'b': 1,\n",
    "    'c': 2,\n",
    "    'd': 3,\n",
    "    'e': 4,\n",
    "    'f': 5,\n",
    "    'g': 6,\n",
    "    'h': 7,\n",
    "    'i': 8,\n",
    "    'j': 9,\n",
    "    'k': 10,\n",
    "    'l': 11,\n",
    "    'm': 12,\n",
    "    'n': 13,\n",
    "    'o': 14,\n",
    "    'p': 15,\n",
    "    'q': 16,\n",
    "    'r': 17,\n",
    "    's': 18,\n",
    "    't': 19,\n",
    "    'u': 20,\n",
    "    'v': 21,\n",
    "    'w': 22,\n",
    "    'x': 23,\n",
    "    'y': 24,\n",
    "    'z': 25,\n",
    "    ',': 26,\n",
    "    '_': 27,\n",
    "    '?': 28,\n",
    "    \"\"\"'\"\"\": 29,\n",
    "    '\\\\': 30,\n",
    "    '/': 31,\n",
    "}\n",
    "\n",
    "index_to_char_map = {\n",
    "    0: 'a',\n",
    "    1: 'b',\n",
    "    2: 'c',\n",
    "    3: 'd',\n",
    "    4: 'e',\n",
    "    5: 'f',\n",
    "    6: 'g',\n",
    "    7: 'h',\n",
    "    8: 'i',\n",
    "    9: 'j',\n",
    "    10: 'k',\n",
    "    11: 'l',\n",
    "    12: 'm',\n",
    "    13: 'n',\n",
    "    14: 'o',\n",
    "    15: 'p',\n",
    "    16: 'q',\n",
    "    17: 'r',\n",
    "    18: 's',\n",
    "    19: 't',\n",
    "    20: 'u',\n",
    "    21: 'v',\n",
    "    22: 'w',\n",
    "    23: 'x',\n",
    "    24: 'y',\n",
    "    25: 'z',\n",
    "    26: ',',\n",
    "    27: '_',\n",
    "    28: '?',\n",
    "    29: \"\"\"'\"\"\",\n",
    "    30: '\\\\',\n",
    "    31: '/',\n",
    "}\n",
    "\n",
    "base_array = np.array([0, 0, 0, 0, 0, 0, 0, 0, 0, 0,\n",
    "                       0, 0, 0, 0, 0, 0, 0, 0, 0, 0,\n",
    "                       0, 0, 0, 0, 0, 0, 0, 0, 0, 0,\n",
    "                       0, 0\n",
    "                       ])\n"
   ]
  },
  {
   "cell_type": "code",
   "execution_count": 4,
   "metadata": {
    "scrolled": true
   },
   "outputs": [],
   "source": [
    "def load_lyrics():\n",
    "    lyrics = ''\n",
    "    data = open('lyric2.txt', 'r')\n",
    "    for i in data:\n",
    "    \tlyrics += i\n",
    "    return lyrics\n",
    "\n",
    "def print_lyrics(data):\n",
    "    for value in data:\n",
    "        print(value)\n",
    "\n",
    "def convert_char_to_array(character):\n",
    "    result = np.array([0, 0, 0, 0, 0, 0, 0, 0, 0, 0,\n",
    "                       0, 0, 0, 0, 0, 0, 0, 0, 0, 0,\n",
    "                       0, 0, 0, 0, 0, 0, 0, 0, 0, 0,\n",
    "                       0, 0\n",
    "                      ])\n",
    "    index = char_to_index_map[character]\n",
    "    result[index] = 1\n",
    "    return result\n",
    "\n",
    "def generate_input_data(all_chars):\n",
    "    input_data = []\n",
    "    for character in all_chars:\n",
    "        new_array = convert_char_to_array(character)\n",
    "        input_data.append(new_array)\n",
    "    return input_data\n",
    "\n",
    "def generate_teacher_data(all_chars):\n",
    "    output_data = convert_char_to_array(all_chars[1])\n",
    "    for character in all_chars[2:len(all_chars)]:\n",
    "        new_array = convert_char_to_array(character)\n",
    "        output_data = np.vstack((output_data, new_array))\n",
    "    output_data = np.vstack((output_data, base_array))\n",
    "    return output_data\n",
    "\n",
    "def generate_data(all_chars):\n",
    "    input_data = generate_input_data(all_chars)\n",
    "    #print('Input data generated.')\n",
    "    teacher_data = generate_teacher_data(all_chars)\n",
    "    #print('Teacher data generated.')\n",
    "\n",
    "    return input_data, teacher_data\n",
    "\n",
    "def create_vector_by_index(index):\n",
    "    result = np.array([0, 0, 0, 0, 0, 0, 0, 0, 0, 0,\n",
    "                       0, 0, 0, 0, 0, 0, 0, 0, 0, 0,\n",
    "                       0, 0, 0, 0, 0, 0, 0, 0, 0, 0,\n",
    "                       0, 0, 0, 0, 0, 0, 0\n",
    "                       ])\n",
    "    result[index] = 1\n",
    "    return result\n",
    "\n",
    "def decrypt_output(collection_matrix):\n",
    "    description = ''\n",
    "    for i in range(length + 1):\n",
    "        letter_vector = collection_matrix[:, i]\n",
    "        letter = choose_letter(letter_vector)\n",
    "        description = '{}{}'.format(description, letter)\n",
    "    print(description)\n",
    "\n",
    "def choose_letter(input_vector):\n",
    "    #chosen_index = np.argmax(input_vector)\n",
    "    input_vector = np.array(input_vector)\n",
    "    #print(input_vector.sum())\n",
    "    chosen_index = np.random.choice(32, 1, replace=False, p=input_vector)\n",
    "    letter = index_to_char_map[chosen_index[0]]\n",
    "    return letter\n",
    "\n",
    "def normalize_vector(input_vector):\n",
    "    elements_sum = 0\n",
    "    result_vector = np.array(input_vector)\n",
    "    for i in range(input_vector.size):\n",
    "        if input_vector[i] < 0:\n",
    "            result_vector[i] = 0\n",
    "        else:\n",
    "            result_vector[i] = input_vector[i]\n",
    "\n",
    "    sum_of_elements = result_vector.sum()\n",
    "    result_vector = result_vector/result_vector.sum()\n",
    "    #for i in range(result_vector.size):\n",
    "    #    result_vector[i] = result_vector[i] / sum_of_elements\n",
    "    #    suma += result_vector[i]\n",
    "    suma=result_vector.sum()\n",
    "    #print(suma)\n",
    "    return result_vector"
   ]
  },
  {
   "cell_type": "code",
   "execution_count": 15,
   "metadata": {
    "scrolled": false
   },
   "outputs": [
    {
     "name": "stdout",
     "output_type": "stream",
     "text": [
      "-0.17599450459520108\n"
     ]
    }
   ],
   "source": [
    "if __name__ == '__main__':\n",
    "\n",
    "    all_lyrics = load_lyrics()\n",
    "    #print(\"lyrics loaded\")\n",
    "    #print_lyrics(all_lyrics)\n",
    "    all_lyrics = all_lyrics.lower()\n",
    "    input_data, teacher_data = generate_data(all_lyrics)\n",
    "    #print('Input data and teacher data loaded ...')\n",
    "\n",
    "    input_units = output_units = 32\n",
    "    units = 400\n",
    "    np.random.seed(78)\n",
    "    # Define the reservoir parameters\n",
    "    defined = 1\n",
    "\n",
    "    if defined == 0:\n",
    "        Win = (np.random.rand(units, input_units) - 0.5)\n",
    "        W = np.random.rand(units, units) - 0.5\n",
    "        bias = np.random.rand(units, ) - 0.5\n",
    "        np.savetxt('Win.txt', Win)\n",
    "        np.savetxt('W.txt', W)\n",
    "        np.savetxt('bias.txt', bias)\n",
    "    read = 1\n",
    "    if read == 1:\n",
    "        Win = np.genfromtxt('Win.txt')\n",
    "        W = np.genfromtxt('W.txt')\n",
    "        bias = np.genfromtxt('bias.txt')\n",
    "\n",
    "    spectral_radius = np.max(np.abs(np.linalg.eig(W)[0]))\n",
    "    #print('Spectral radius is ...', spectral_radius)\n",
    "    W *= 1 / spectral_radius\n",
    "\n",
    "    winsf = 1.6\n",
    "    wsf = 1.4\n",
    "    bsf = 0.9\n",
    "    alpha = 0.005\n",
    "    \n",
    "    W = np.multiply(W, wsf)\n",
    "    Win = np.multiply(Win, winsf)\n",
    "    bias = np.multiply(bias, bsf)\n",
    "\n",
    "    train_len = len(input_data)\n",
    "    sum_of_entropy_rates = 0\n",
    "\n",
    "    # Data collection matrix\n",
    "    # State collection matrix\n",
    "    X = np.zeros((input_units + units, train_len), dtype=np.float32)\n",
    "    x = np.zeros((units, ), dtype=np.float32)\n",
    "\n",
    "    #print('Starting Optimizer...')\n",
    "    folds = 5\n",
    "    opt_len = train_len - math.floor(train_len/folds) - 1\n",
    "\n",
    "    for i in range(folds):\n",
    "        a = (i)*(math.floor(train_len/folds))\n",
    "        b = (i+1)*(math.floor(train_len/folds))\n",
    "        input_data = np.array(input_data)\n",
    "        U = np.concatenate((input_data[0:a], input_data[(b):(train_len-1)]),axis=0)\n",
    "        testU = np.array(input_data[(a): b]); #validation set for input data\n",
    "        testD = np.array(input_data[(a+1): b+1]); #validation set for teacher data\n",
    "        D = np.concatenate((input_data[1:a+1], input_data[(b+1):(train_len)]), axis=0) #testing teacher data\n",
    "        \n",
    "        #print('Starting training in ' , i , 'fold')\n",
    "        X_train = np.zeros((units+input_units, U.shape[0]), dtype=np.float32)\n",
    "        for i2 in range(opt_len-1):\n",
    "            u = U[i2]\n",
    "            x = np.tanh(np.dot(W, x) + np.dot(Win, u) + bias)\n",
    "            collection_vector = np.vstack((u[:, None], x[:, None]))\n",
    "            X_train[:, i2] = collection_vector[:, 0]\n",
    "        \n",
    "           \n",
    "        # Use Ridge regression to train the output matrix\n",
    "        Wout = np.dot(np.divide(np.dot(D.T, X_train.T),train_len), np.linalg.inv(np.divide(np.dot(X_train, X_train.T), train_len) + alpha*np.eye(units + input_units)))\n",
    "        \n",
    "        test_len = math.floor(train_len/folds)\n",
    "        nhv_test = np.zeros((output_units, testU.size), dtype=np.float32)\n",
    "        X_test = np.zeros((units+input_units, testU.size), dtype=np.float32)\n",
    "        sum_of_logs = 0\n",
    "        loop_value = a\n",
    "        value = 0\n",
    "        #print('Starting testing in ' , i , 'fold')\n",
    "        for i3 in range(test_len-1):\n",
    "            u = testU[i3]\n",
    "            x = np.tanh(np.dot(W, x) + np.dot(Win, u) + bias)\n",
    "            collection_vector = np.vstack((u[:, None], x[:, None]))\n",
    "            X_test[:, i3] = collection_vector[:, 0]\n",
    "            y = np.dot(Wout, collection_vector[:, 0])\n",
    "            y_normalized = normalize_vector(y)\n",
    "            current_character = all_lyrics[loop_value]\n",
    "            current_character_index = char_to_index_map[current_character]\n",
    "            if (y_normalized[current_character_index] == 0):\n",
    "                value = 0\n",
    "            else:\n",
    "                value = (np.log10(y_normalized[current_character_index]))\n",
    "            sum_of_logs += value\n",
    "            nhv_test[:, i3] = y_normalized\n",
    "            loop_value += 1\n",
    "        entropy_rate = sum_of_logs/train_len\n",
    "        sum_of_entropy_rates += entropy_rate\n",
    "    \n",
    "    mean_entropy_rate = sum_of_entropy_rates/folds\n",
    "    print(mean_entropy_rate)"
   ]
  },
  {
   "cell_type": "code",
   "execution_count": 30,
   "metadata": {
    "collapsed": true,
    "scrolled": true
   },
   "outputs": [
    {
     "ename": "ValueError",
     "evalue": "Output array is the wrong shape",
     "output_type": "error",
     "traceback": [
      "\u001b[1;31m---------------------------------------------------------------------------\u001b[0m",
      "\u001b[1;31mValueError\u001b[0m                                Traceback (most recent call last)",
      "\u001b[1;32m<ipython-input-30-31c5f0d8d643>\u001b[0m in \u001b[0;36m<module>\u001b[1;34m()\u001b[0m\n\u001b[0;32m      1\u001b[0m \u001b[0mtest1\u001b[0m \u001b[1;33m=\u001b[0m \u001b[0mnp\u001b[0m\u001b[1;33m.\u001b[0m\u001b[0mzeros\u001b[0m\u001b[1;33m(\u001b[0m\u001b[1;33m(\u001b[0m\u001b[1;36m12425\u001b[0m\u001b[1;33m,\u001b[0m \u001b[1;36m32\u001b[0m\u001b[1;33m)\u001b[0m\u001b[1;33m,\u001b[0m \u001b[0mdtype\u001b[0m\u001b[1;33m=\u001b[0m\u001b[0mnp\u001b[0m\u001b[1;33m.\u001b[0m\u001b[0mfloat32\u001b[0m\u001b[1;33m)\u001b[0m\u001b[1;33m\u001b[0m\u001b[0m\n\u001b[1;32m----> 2\u001b[1;33m \u001b[0mnp\u001b[0m\u001b[1;33m.\u001b[0m\u001b[0mconcatenate\u001b[0m\u001b[1;33m(\u001b[0m\u001b[1;33m(\u001b[0m\u001b[0minput_data\u001b[0m\u001b[1;33m[\u001b[0m\u001b[1;36m0\u001b[0m\u001b[1;33m:\u001b[0m\u001b[1;36m3105\u001b[0m\u001b[1;33m]\u001b[0m\u001b[1;33m,\u001b[0m \u001b[0minput_data\u001b[0m\u001b[1;33m[\u001b[0m\u001b[1;36m6212\u001b[0m\u001b[1;33m:\u001b[0m\u001b[1;36m15530\u001b[0m\u001b[1;33m]\u001b[0m\u001b[1;33m)\u001b[0m\u001b[1;33m,\u001b[0m \u001b[0maxis\u001b[0m\u001b[1;33m=\u001b[0m\u001b[1;36m0\u001b[0m\u001b[1;33m,\u001b[0m \u001b[0mout\u001b[0m\u001b[1;33m=\u001b[0m\u001b[0mtest1\u001b[0m\u001b[1;33m)\u001b[0m\u001b[1;33m\u001b[0m\u001b[0m\n\u001b[0m",
      "\u001b[1;31mValueError\u001b[0m: Output array is the wrong shape"
     ]
    }
   ],
   "source": [
    "test1 = np.zeros((12425, 32), dtype=np.float32)\n",
    "np.concatenate((input_data[0:3105], input_data[6212:15530]), axis=0, out=test1)"
   ]
  },
  {
   "cell_type": "code",
   "execution_count": 131,
   "metadata": {
    "scrolled": true
   },
   "outputs": [
    {
     "name": "stdout",
     "output_type": "stream",
     "text": [
      "[[1 2 3]\n",
      " [7 8 9]]\n"
     ]
    }
   ],
   "source": [
    "a = [[1,2,3], [5,6,7], [4,5,6], [7,8,9], [4,6,8]]\n",
    "B = np.concatenate((a[0:1], a[3:4]), axis=0)\n",
    "print(B)"
   ]
  },
  {
   "cell_type": "code",
   "execution_count": 6,
   "metadata": {
    "scrolled": true
   },
   "outputs": [
    {
     "name": "stdout",
     "output_type": "stream",
     "text": [
      "(400, 400)\n"
     ]
    }
   ],
   "source": [
    "print(W.shape)"
   ]
  },
  {
   "cell_type": "code",
   "execution_count": null,
   "metadata": {
    "scrolled": true
   },
   "outputs": [],
   "source": []
  },
  {
   "cell_type": "code",
   "execution_count": null,
   "metadata": {
    "scrolled": true
   },
   "outputs": [],
   "source": []
  },
  {
   "cell_type": "code",
   "execution_count": null,
   "metadata": {
    "scrolled": true
   },
   "outputs": [],
   "source": []
  },
  {
   "cell_type": "code",
   "execution_count": null,
   "metadata": {
    "scrolled": true
   },
   "outputs": [],
   "source": []
  }
 ],
 "metadata": {
  "kernelspec": {
   "display_name": "Python 3",
   "language": "python",
   "name": "python3"
  },
  "language_info": {
   "codemirror_mode": {
    "name": "ipython",
    "version": 3
   },
   "file_extension": ".py",
   "mimetype": "text/x-python",
   "name": "python",
   "nbconvert_exporter": "python",
   "pygments_lexer": "ipython3",
   "version": "3.6.4"
  }
 },
 "nbformat": 4,
 "nbformat_minor": 2
}
